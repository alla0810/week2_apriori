{
 "cells": [
  {
   "cell_type": "code",
   "execution_count": 107,
   "id": "ef1c921c-b866-498e-92f4-1260d657b1c9",
   "metadata": {},
   "outputs": [],
   "source": [
    "from pathlib import Path"
   ]
  },
  {
   "cell_type": "code",
   "execution_count": 108,
   "id": "ac6bf951-434b-4a60-b5ce-51306b907fdb",
   "metadata": {},
   "outputs": [],
   "source": [
    "from collections import Counter"
   ]
  },
  {
   "cell_type": "code",
   "execution_count": 109,
   "id": "03ffde9f-2892-422e-961c-96057e8d71b7",
   "metadata": {},
   "outputs": [],
   "source": [
    "from itertools import combinations"
   ]
  },
  {
   "cell_type": "code",
   "execution_count": 110,
   "id": "415ca836-7021-4f56-9b3a-ed8b1d2b6705",
   "metadata": {},
   "outputs": [],
   "source": [
    "PATH = Path(\"categories.txt\")"
   ]
  },
  {
   "cell_type": "code",
   "execution_count": 111,
   "id": "f09cd652-47f0-45b8-af74-f3e21dbb2186",
   "metadata": {},
   "outputs": [],
   "source": [
    "def load_transactions(path: Path):\n",
    "    tx = []\n",
    "    with path.open(\"r\", encoding = \"utf-8\") as f:\n",
    "        for line in f:\n",
    "            line = line.strip()\n",
    "            if not line:\n",
    "                continue\n",
    "            items = [x.strip() for x in line.split(\";\") if x.strip()]\n",
    "            tx.append(tuple(sorted(items)))\n",
    "    return tx"
   ]
  },
  {
   "cell_type": "code",
   "execution_count": 112,
   "id": "497b4646-8539-4b34-8da6-5065787315f9",
   "metadata": {},
   "outputs": [],
   "source": [
    "def count_support(transactions, candidates):\n",
    "    counter = Counter()\n",
    "    cand_sets = [set(c) for c in candidates]\n",
    "    for t in transactions:\n",
    "        s = set(t)\n",
    "        for c, cs in zip(candidates, cand_sets):\n",
    "            if cs.issubset(s):\n",
    "                counter[c] += 1\n",
    "    return counter"
   ]
  },
  {
   "cell_type": "code",
   "execution_count": 113,
   "id": "a9775ffc-8642-4922-bb12-1717b5f3d4a5",
   "metadata": {},
   "outputs": [],
   "source": [
    "def get_L1(transactions, min_sup_abs):\n",
    "    c1 = Counter(item for t in transactions for item in t)\n",
    "    L1 = { (i,): cnt for i, cnt in c1.items() if cnt >= min_sup_abs}\n",
    "\n",
    "    return dict(sorted(L1.items()))"
   ]
  },
  {
   "cell_type": "code",
   "execution_count": 114,
   "id": "5498b074-da7d-4612-8788-bce1c94a3a6f",
   "metadata": {},
   "outputs": [],
   "source": [
    "def generate_candidates(prev_Lk):\n",
    "    \"\"\"prev_Lk: dict with keys = tuples of length k-1 (sorted)\"\"\"\n",
    "    prev_itemsets = sorted(prev_Lk.keys())\n",
    "    k = len(prev_itemsets[0]) + 1 if prev_itemsets else 1\n",
    "    Ck = set()\n",
    "    # join step\n",
    "    for i in range(len(prev_itemsets)):\n",
    "        for j in range(i+1, len(prev_itemsets)):\n",
    "            a, b = prev_itemsets[i], prev_itemsets[j]\n",
    "            if a[:-1] == b[:-1]:  # \n",
    "                cand = tuple(sorted(set(a) | set(b)))\n",
    "                if len(cand) == k:\n",
    "                    # prune step: all (k-1) subsets must exist in prev_Lk\n",
    "                    ok = True\n",
    "                    for sub in combinations(cand, k-1):\n",
    "                        if sub not in prev_Lk:\n",
    "                            ok = False\n",
    "                            break\n",
    "                    if ok:\n",
    "                        Ck.add(cand)\n",
    "            else:\n",
    "                break\n",
    "    return sorted(Ck)\n"
   ]
  },
  {
   "cell_type": "code",
   "execution_count": 115,
   "id": "4ea6d346-fa3f-4fc0-a0d5-662a129300b4",
   "metadata": {},
   "outputs": [],
   "source": [
    "def apriori(transactions, min_sup_rel = 0.01):\n",
    "    N = len(transactions)\n",
    "    min_sup_abs = int(min_sup_rel * N + 1e-9)\n",
    "    \n",
    "    L = []\n",
    "    L1 = get_L1(transactions, min_sup_abs)\n",
    "    if not L1:\n",
    "        return [], min_sup_abs\n",
    "\n",
    "    L.append(L1)\n",
    "\n",
    "    k = 2\n",
    "    \n",
    "    while True:\n",
    "        Ck = generate_candidates(L[-1])\n",
    "        if not Ck:\n",
    "            break\n",
    "        counts = count_support(transactions, Ck)\n",
    "        Lk = {c: cnt for c, cnt in counts.items() if cnt >= min_sup_abs }\n",
    "        if not Lk:\n",
    "            break\n",
    "        L.append(dict(sorted(Lk.items())))\n",
    "        k += 1\n",
    "    return L, min_sup_abs    "
   ]
  },
  {
   "cell_type": "code",
   "execution_count": 116,
   "id": "7087a4a2-cc4c-466d-8cca-fcc5c58e8dbd",
   "metadata": {},
   "outputs": [],
   "source": [
    "def save_part1(L_all, out_path=\"part1.txt\"):\n",
    "    L1 = L_all[0]\n",
    "    with open(out_path, \"w\", encoding=\"utf-8\") as f:\n",
    "        for (item,), cnt in sorted(L1.items(), key=lambda x: (-x[1], x[0][0])):\n",
    "            f.write(f\"{cnt}:{item}\\n\")            "
   ]
  },
  {
   "cell_type": "code",
   "execution_count": 117,
   "id": "12d2eca0-0c24-4c05-8353-e7ca441111d0",
   "metadata": {},
   "outputs": [],
   "source": [
    "def save_part2(L1_all, out_path=\"part2.txt\"):\n",
    "    with open(out_path, \"w\", encoding=\"utf=8\") as f:\n",
    "        for Lk in L_all:\n",
    "            for items, cnt in sorted(Lk.items(), key=lambda x: (-x[1], x[0])):\n",
    "                line_items = \";\".join(items)\n",
    "                f.write(f\"{cnt}:{line_items}\\n\")"
   ]
  },
  {
   "cell_type": "code",
   "execution_count": 118,
   "id": "5c8ba814-d4e8-4dd1-8571-a286e2085123",
   "metadata": {
    "scrolled": true
   },
   "outputs": [],
   "source": [
    "transactions = load_transactions(PATH)"
   ]
  },
  {
   "cell_type": "code",
   "execution_count": 119,
   "id": "81e9220f-2871-4e2c-bfca-aae35a520e97",
   "metadata": {},
   "outputs": [],
   "source": [
    "N = len(transactions)"
   ]
  },
  {
   "cell_type": "code",
   "execution_count": 120,
   "id": "0b209b6c-ee98-493f-a5cd-3c007bd48f2c",
   "metadata": {},
   "outputs": [
    {
     "data": {
      "text/plain": [
       "77185"
      ]
     },
     "execution_count": 120,
     "metadata": {},
     "output_type": "execute_result"
    }
   ],
   "source": [
    "N"
   ]
  },
  {
   "cell_type": "code",
   "execution_count": 121,
   "id": "b78ca226-3a1c-40d8-8e93-b0530bc50132",
   "metadata": {},
   "outputs": [],
   "source": [
    "L_all, min_sup_abs = apriori(transactions, min_sup_rel = 0.01)"
   ]
  },
  {
   "cell_type": "code",
   "execution_count": 122,
   "id": "8b54f556-c99d-41ad-9f4d-66c69c741fbe",
   "metadata": {},
   "outputs": [
    {
     "data": {
      "text/plain": [
       "[{('Active Life',): 3103,\n",
       "  ('American (New)',): 1593,\n",
       "  ('American (Traditional)',): 2416,\n",
       "  ('Arts & Entertainment',): 2271,\n",
       "  ('Auto Repair',): 1716,\n",
       "  ('Automotive',): 4208,\n",
       "  ('Bakeries',): 1115,\n",
       "  ('Bars',): 4328,\n",
       "  ('Beauty & Spas',): 6583,\n",
       "  ('Breakfast & Brunch',): 1369,\n",
       "  ('Burgers',): 1774,\n",
       "  ('Cafes',): 1002,\n",
       "  ('Chinese',): 1629,\n",
       "  ('Coffee & Tea',): 2199,\n",
       "  ('Dentists',): 1195,\n",
       "  ('Doctors',): 1694,\n",
       "  ('Event Planning & Services',): 2975,\n",
       "  ('Fashion',): 3078,\n",
       "  ('Fast Food',): 2851,\n",
       "  ('Financial Services',): 875,\n",
       "  ('Fitness & Instruction',): 1442,\n",
       "  ('Food',): 9250,\n",
       "  ('General Dentistry',): 823,\n",
       "  ('Grocery',): 1424,\n",
       "  ('Hair Salons',): 2091,\n",
       "  ('Health & Medical',): 5121,\n",
       "  ('Home & Garden',): 1586,\n",
       "  ('Home Services',): 4785,\n",
       "  ('Hotels',): 1431,\n",
       "  ('Hotels & Travel',): 2495,\n",
       "  ('Ice Cream & Frozen Yogurt',): 1018,\n",
       "  ('Italian',): 1848,\n",
       "  ('Japanese',): 848,\n",
       "  ('Local Services',): 3468,\n",
       "  ('Mexican',): 2515,\n",
       "  ('Nail Salons',): 1667,\n",
       "  ('Nightlife',): 5088,\n",
       "  ('Pet Services',): 870,\n",
       "  ('Pets',): 1497,\n",
       "  ('Pizza',): 2657,\n",
       "  ('Professional Services',): 1025,\n",
       "  ('Pubs',): 874,\n",
       "  ('Real Estate',): 1424,\n",
       "  ('Restaurants',): 25071,\n",
       "  ('Sandwiches',): 2364,\n",
       "  ('Shopping',): 11233,\n",
       "  ('Specialty Food',): 1150,\n",
       "  ('Sports Bars',): 818,\n",
       "  ('Sushi Bars',): 798,\n",
       "  (\"Women's Clothing\",): 1138},\n",
       " {('Active Life', 'Fitness & Instruction'): 1442,\n",
       "  ('American (New)', 'Restaurants'): 1593,\n",
       "  ('American (Traditional)', 'Restaurants'): 2416,\n",
       "  ('Auto Repair', 'Automotive'): 1716,\n",
       "  ('Bakeries', 'Food'): 1115,\n",
       "  ('Bars', 'Nightlife'): 4328,\n",
       "  ('Bars', 'Pubs'): 874,\n",
       "  ('Bars', 'Restaurants'): 2423,\n",
       "  ('Bars', 'Sports Bars'): 818,\n",
       "  ('Beauty & Spas', 'Hair Salons'): 2091,\n",
       "  ('Beauty & Spas', 'Nail Salons'): 1667,\n",
       "  ('Breakfast & Brunch', 'Restaurants'): 1369,\n",
       "  ('Burgers', 'Fast Food'): 774,\n",
       "  ('Burgers', 'Restaurants'): 1774,\n",
       "  ('Cafes', 'Restaurants'): 1002,\n",
       "  ('Chinese', 'Restaurants'): 1629,\n",
       "  ('Coffee & Tea', 'Food'): 2199,\n",
       "  ('Dentists', 'General Dentistry'): 823,\n",
       "  ('Dentists', 'Health & Medical'): 1195,\n",
       "  ('Doctors', 'Health & Medical'): 1694,\n",
       "  ('Event Planning & Services', 'Hotels'): 1431,\n",
       "  ('Event Planning & Services', 'Hotels & Travel'): 1471,\n",
       "  ('Fashion', 'Shopping'): 3078,\n",
       "  ('Fashion', \"Women's Clothing\"): 1138,\n",
       "  ('Fast Food', 'Restaurants'): 2851,\n",
       "  ('Food', 'Grocery'): 1424,\n",
       "  ('Food', 'Ice Cream & Frozen Yogurt'): 1018,\n",
       "  ('Food', 'Restaurants'): 2101,\n",
       "  ('Food', 'Specialty Food'): 1150,\n",
       "  ('General Dentistry', 'Health & Medical'): 823,\n",
       "  ('Home & Garden', 'Shopping'): 1586,\n",
       "  ('Home Services', 'Real Estate'): 1424,\n",
       "  ('Hotels', 'Hotels & Travel'): 1431,\n",
       "  ('Italian', 'Pizza'): 771,\n",
       "  ('Italian', 'Restaurants'): 1848,\n",
       "  ('Japanese', 'Restaurants'): 848,\n",
       "  ('Mexican', 'Restaurants'): 2515,\n",
       "  ('Nightlife', 'Pubs'): 874,\n",
       "  ('Nightlife', 'Restaurants'): 2533,\n",
       "  ('Nightlife', 'Sports Bars'): 818,\n",
       "  ('Pet Services', 'Pets'): 870,\n",
       "  ('Pizza', 'Restaurants'): 2657,\n",
       "  ('Restaurants', 'Sandwiches'): 2364,\n",
       "  ('Restaurants', 'Sushi Bars'): 798,\n",
       "  ('Shopping', \"Women's Clothing\"): 1138},\n",
       " {('Bars', 'Nightlife', 'Pubs'): 874,\n",
       "  ('Bars', 'Nightlife', 'Restaurants'): 2423,\n",
       "  ('Bars', 'Nightlife', 'Sports Bars'): 818,\n",
       "  ('Burgers', 'Fast Food', 'Restaurants'): 774,\n",
       "  ('Dentists', 'General Dentistry', 'Health & Medical'): 823,\n",
       "  ('Event Planning & Services', 'Hotels', 'Hotels & Travel'): 1431,\n",
       "  ('Fashion', 'Shopping', \"Women's Clothing\"): 1138,\n",
       "  ('Italian', 'Pizza', 'Restaurants'): 771}]"
      ]
     },
     "execution_count": 122,
     "metadata": {},
     "output_type": "execute_result"
    }
   ],
   "source": [
    "L_all"
   ]
  },
  {
   "cell_type": "code",
   "execution_count": 123,
   "id": "9714a8dd-c9b4-463a-ac61-e488e62dd2f1",
   "metadata": {},
   "outputs": [
    {
     "data": {
      "text/plain": [
       "771"
      ]
     },
     "execution_count": 123,
     "metadata": {},
     "output_type": "execute_result"
    }
   ],
   "source": [
    "min_sup_abs"
   ]
  },
  {
   "cell_type": "code",
   "execution_count": 124,
   "id": "2490677e-42da-4ee0-83b5-2bb5d5be69ab",
   "metadata": {},
   "outputs": [
    {
     "data": {
      "text/plain": [
       "(103, [50, 45, 8], 771)"
      ]
     },
     "execution_count": 124,
     "metadata": {},
     "output_type": "execute_result"
    }
   ],
   "source": [
    "sum(len(Lk) for Lk in L_all), [len(Lk) for Lk in L_all], min_sup_abs"
   ]
  },
  {
   "cell_type": "code",
   "execution_count": 125,
   "id": "2743a6ff-a33c-4aeb-ad41-61200cec06e5",
   "metadata": {},
   "outputs": [
    {
     "data": {
      "text/plain": [
       "[(('Active Life',), 3103),\n",
       " (('American (New)',), 1593),\n",
       " (('American (Traditional)',), 2416),\n",
       " (('Arts & Entertainment',), 2271),\n",
       " (('Auto Repair',), 1716)]"
      ]
     },
     "execution_count": 125,
     "metadata": {},
     "output_type": "execute_result"
    }
   ],
   "source": [
    "list(L_all[0].items())[:5]"
   ]
  },
  {
   "cell_type": "code",
   "execution_count": 126,
   "id": "12fdbdd6-794c-4b84-a09c-205771289a99",
   "metadata": {},
   "outputs": [
    {
     "name": "stdout",
     "output_type": "stream",
     "text": [
      "k=1 -> 50 itemsets\n",
      "k=2 -> 45 itemsets\n",
      "k=3 -> 8 itemsets\n"
     ]
    }
   ],
   "source": [
    "for k, Lk in enumerate(L_all, start=1):\n",
    "    print(f\"k={k} -> {len(Lk)} itemsets\")"
   ]
  },
  {
   "cell_type": "code",
   "execution_count": 127,
   "id": "dc4376e3-13fa-4e27-bd02-314fd2594012",
   "metadata": {},
   "outputs": [],
   "source": [
    "save_part1(L_all, \"part1.txt\")"
   ]
  },
  {
   "cell_type": "code",
   "execution_count": 128,
   "id": "b4dbe992-efe5-4ea0-a4cf-fda4f8b927b9",
   "metadata": {},
   "outputs": [],
   "source": [
    "save_part2(L_all, \"part2.txt\")"
   ]
  },
  {
   "cell_type": "code",
   "execution_count": null,
   "id": "25e0d56d-dbfa-4229-ba21-3c35a1b4726c",
   "metadata": {},
   "outputs": [],
   "source": []
  },
  {
   "cell_type": "code",
   "execution_count": null,
   "id": "1227c89e-3fd6-43ef-b609-d5edf390a139",
   "metadata": {},
   "outputs": [],
   "source": []
  }
 ],
 "metadata": {
  "kernelspec": {
   "display_name": "Python 3 (ipykernel)",
   "language": "python",
   "name": "python3"
  },
  "language_info": {
   "codemirror_mode": {
    "name": "ipython",
    "version": 3
   },
   "file_extension": ".py",
   "mimetype": "text/x-python",
   "name": "python",
   "nbconvert_exporter": "python",
   "pygments_lexer": "ipython3",
   "version": "3.12.2"
  }
 },
 "nbformat": 4,
 "nbformat_minor": 5
}
